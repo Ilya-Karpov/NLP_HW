{
 "cells": [
  {
   "cell_type": "markdown",
   "id": "8ba11618",
   "metadata": {},
   "source": [
    "### Домашнее задание к занятию «Тематическое моделирование»"
   ]
  },
  {
   "cell_type": "markdown",
   "id": "cde5fb98",
   "metadata": {},
   "source": [
    "### Классификация по тональности  \n",
    "В этом домашнем задании вам предстоит классифицировать по тональности отзывы на банки с сайта banki.ru.\n",
    "\n",
    "Данные содержат непосредственно тексты отзывов, некоторую дополнительную информацию, а также оценку по шкале от 1 до 5.\n",
    "\n",
    "Тексты хранятся в json-ах в массиве responses.\n",
    "\n",
    "Посмотрим на примере отзыва: возьмите для удобства ноутбук, размещенный в папке репозитория.\n",
    "\n",
    "### Часть 1. Анализ текстов  \n",
    "1. Посчитайте количество отзывов в разных городах и на разные банки  \n",
    "2. Постройте гистограмы длин слов в символах и в словах  \n",
    "3. Найдите 10 самых частых:  \n",
    "- слов  \n",
    "- слов без стоп-слов  \n",
    "- лемм  \n",
    "- существительных  \n",
    "\n",
    "4. Постройте кривые Ципфа и Хипса  \n",
    "5. Ответьте на следующие вопросы:  \n",
    "- какое слово встречается чаще, \"сотрудник\" или \"клиент\"?  \n",
    "- сколько раз встречается слова \"мошенничество\" и \"доверие\"?  \n",
    "\n",
    "6. В поле \"rating_grade\" записана оценка отзыва по шкале от 1 до 5. Используйте меру tf - idf, для того, чтобы найти ключевые слова и биграмы для положительных отзывов (с оценкой 5) и отрицательных отзывов (с оценкой 1)."
   ]
  },
  {
   "cell_type": "code",
   "execution_count": 2,
   "id": "8cef745a",
   "metadata": {},
   "outputs": [],
   "source": [
    "import json\n",
    "\n",
    "import bz2\n",
    "import regex\n",
    "from tqdm import tqdm\n",
    "from scipy import sparse"
   ]
  },
  {
   "cell_type": "code",
   "execution_count": 3,
   "id": "6792e288",
   "metadata": {},
   "outputs": [
    {
     "name": "stdout",
     "output_type": "stream",
     "text": [
      "%pylab is deprecated, use %matplotlib inline and import the required libraries.\n",
      "Populating the interactive namespace from numpy and matplotlib\n"
     ]
    }
   ],
   "source": [
    "import pandas as pd\n",
    "import numpy as np\n",
    "import nltk\n",
    "import matplotlib.pyplot as plt\n",
    "import seaborn as sns\n",
    "%matplotlib inline\n",
    "%pylab inline"
   ]
  },
  {
   "cell_type": "code",
   "execution_count": 4,
   "id": "d9081d43",
   "metadata": {
    "scrolled": true
   },
   "outputs": [
    {
     "name": "stderr",
     "output_type": "stream",
     "text": [
      "201030it [01:47, 1867.04it/s]\n"
     ]
    }
   ],
   "source": [
    "responses = []\n",
    "with bz2.BZ2File('banki_responses.json.bz2', 'r') as thefile:\n",
    "    for row in tqdm(thefile):\n",
    "        resp = json.loads(row)\n",
    "        if not resp['rating_not_checked'] and (len(resp['text'].split()) > 0):\n",
    "            responses.append(resp)"
   ]
  },
  {
   "cell_type": "code",
   "execution_count": 5,
   "id": "0fa56fac",
   "metadata": {
    "scrolled": true
   },
   "outputs": [
    {
     "data": {
      "text/plain": [
       "{'city': 'г. Москва',\n",
       " 'rating_not_checked': False,\n",
       " 'title': 'Звонки по ночам.',\n",
       " 'num_comments': 0,\n",
       " 'bank_license': 'лицензия № 3279',\n",
       " 'author': 'HAB728',\n",
       " 'bank_name': 'Национальный Банк «Траст»',\n",
       " 'datetime': '2015-06-07 21:37:17',\n",
       " 'text': 'Уважаемый банк и г-жа станецкая, скажите, в какие рамки закона попадают звонки по ночам, в час ночи, в три ночи ...в выходные дни. Скрин не нашла как прицепить. Отправлю заодно в роскомнадзор и цб. \\xa0Приятна забота, но услугу \"разбуди меня\" я не заказывала. Если только с завтраком в номер и на югах. А так не смешно, дамы и господа.',\n",
       " 'rating_grade': None}"
      ]
     },
     "execution_count": 5,
     "metadata": {},
     "output_type": "execute_result"
    }
   ],
   "source": [
    "responses[67]"
   ]
  },
  {
   "cell_type": "code",
   "execution_count": 6,
   "id": "f64c612d",
   "metadata": {},
   "outputs": [],
   "source": [
    "df = pd.DataFrame(data=responses)"
   ]
  },
  {
   "cell_type": "code",
   "execution_count": 7,
   "id": "2130a1f0",
   "metadata": {
    "scrolled": true
   },
   "outputs": [
    {
     "data": {
      "text/html": [
       "<div>\n",
       "<style scoped>\n",
       "    .dataframe tbody tr th:only-of-type {\n",
       "        vertical-align: middle;\n",
       "    }\n",
       "\n",
       "    .dataframe tbody tr th {\n",
       "        vertical-align: top;\n",
       "    }\n",
       "\n",
       "    .dataframe thead th {\n",
       "        text-align: right;\n",
       "    }\n",
       "</style>\n",
       "<table border=\"1\" class=\"dataframe\">\n",
       "  <thead>\n",
       "    <tr style=\"text-align: right;\">\n",
       "      <th></th>\n",
       "      <th>city</th>\n",
       "      <th>rating_not_checked</th>\n",
       "      <th>title</th>\n",
       "      <th>num_comments</th>\n",
       "      <th>bank_license</th>\n",
       "      <th>author</th>\n",
       "      <th>bank_name</th>\n",
       "      <th>datetime</th>\n",
       "      <th>text</th>\n",
       "      <th>rating_grade</th>\n",
       "    </tr>\n",
       "  </thead>\n",
       "  <tbody>\n",
       "    <tr>\n",
       "      <th>0</th>\n",
       "      <td>г. Москва</td>\n",
       "      <td>False</td>\n",
       "      <td>Жалоба</td>\n",
       "      <td>0</td>\n",
       "      <td>лицензия № 2562</td>\n",
       "      <td>uhnov1</td>\n",
       "      <td>Бинбанк</td>\n",
       "      <td>2015-06-08 12:50:54</td>\n",
       "      <td>Добрый день! Я не являюсь клиентом банка и пор...</td>\n",
       "      <td>NaN</td>\n",
       "    </tr>\n",
       "    <tr>\n",
       "      <th>1</th>\n",
       "      <td>г. Новосибирск</td>\n",
       "      <td>False</td>\n",
       "      <td>Не могу пользоваться услугой Сбербанк он-лайн</td>\n",
       "      <td>0</td>\n",
       "      <td>лицензия № 1481</td>\n",
       "      <td>Foryou</td>\n",
       "      <td>Сбербанк России</td>\n",
       "      <td>2015-06-08 11:09:57</td>\n",
       "      <td>Доброго дня! Являюсь держателем зарплатной кар...</td>\n",
       "      <td>NaN</td>\n",
       "    </tr>\n",
       "    <tr>\n",
       "      <th>2</th>\n",
       "      <td>г. Москва</td>\n",
       "      <td>False</td>\n",
       "      <td>Двойное списание за один товар.</td>\n",
       "      <td>1</td>\n",
       "      <td>лицензия № 2562</td>\n",
       "      <td>Vladimir84</td>\n",
       "      <td>Бинбанк</td>\n",
       "      <td>2015-06-05 20:14:28</td>\n",
       "      <td>Здравствуйте!  Дублирую свое заявление от 03.0...</td>\n",
       "      <td>NaN</td>\n",
       "    </tr>\n",
       "    <tr>\n",
       "      <th>3</th>\n",
       "      <td>г. Ставрополь</td>\n",
       "      <td>False</td>\n",
       "      <td>Меняют проценты комиссии  не предупредив и не ...</td>\n",
       "      <td>2</td>\n",
       "      <td>лицензия № 1481</td>\n",
       "      <td>643609</td>\n",
       "      <td>Сбербанк России</td>\n",
       "      <td>2015-06-05 13:51:01</td>\n",
       "      <td>Добрый день!! Я открыл расчетный счет в СберБа...</td>\n",
       "      <td>NaN</td>\n",
       "    </tr>\n",
       "    <tr>\n",
       "      <th>4</th>\n",
       "      <td>г. Челябинск</td>\n",
       "      <td>False</td>\n",
       "      <td>Верните денежные средства за страховку</td>\n",
       "      <td>1</td>\n",
       "      <td>лицензия № 2766</td>\n",
       "      <td>anfisa-2003</td>\n",
       "      <td>ОТП Банк</td>\n",
       "      <td>2015-06-05 10:58:12</td>\n",
       "      <td>04.03.2015 г. взяла кредит в вашем банке, заяв...</td>\n",
       "      <td>NaN</td>\n",
       "    </tr>\n",
       "  </tbody>\n",
       "</table>\n",
       "</div>"
      ],
      "text/plain": [
       "             city  rating_not_checked  \\\n",
       "0       г. Москва               False   \n",
       "1  г. Новосибирск               False   \n",
       "2       г. Москва               False   \n",
       "3   г. Ставрополь               False   \n",
       "4    г. Челябинск               False   \n",
       "\n",
       "                                               title  num_comments  \\\n",
       "0                                             Жалоба             0   \n",
       "1      Не могу пользоваться услугой Сбербанк он-лайн             0   \n",
       "2                    Двойное списание за один товар.             1   \n",
       "3  Меняют проценты комиссии  не предупредив и не ...             2   \n",
       "4             Верните денежные средства за страховку             1   \n",
       "\n",
       "      bank_license       author        bank_name             datetime  \\\n",
       "0  лицензия № 2562       uhnov1          Бинбанк  2015-06-08 12:50:54   \n",
       "1  лицензия № 1481       Foryou  Сбербанк России  2015-06-08 11:09:57   \n",
       "2  лицензия № 2562   Vladimir84          Бинбанк  2015-06-05 20:14:28   \n",
       "3  лицензия № 1481       643609  Сбербанк России  2015-06-05 13:51:01   \n",
       "4  лицензия № 2766  anfisa-2003         ОТП Банк  2015-06-05 10:58:12   \n",
       "\n",
       "                                                text  rating_grade  \n",
       "0  Добрый день! Я не являюсь клиентом банка и пор...           NaN  \n",
       "1  Доброго дня! Являюсь держателем зарплатной кар...           NaN  \n",
       "2  Здравствуйте!  Дублирую свое заявление от 03.0...           NaN  \n",
       "3  Добрый день!! Я открыл расчетный счет в СберБа...           NaN  \n",
       "4  04.03.2015 г. взяла кредит в вашем банке, заяв...           NaN  "
      ]
     },
     "execution_count": 7,
     "metadata": {},
     "output_type": "execute_result"
    }
   ],
   "source": [
    "df.head()"
   ]
  },
  {
   "cell_type": "code",
   "execution_count": 8,
   "id": "e2b0db16",
   "metadata": {},
   "outputs": [
    {
     "name": "stdout",
     "output_type": "stream",
     "text": [
      "<class 'pandas.core.frame.DataFrame'>\n",
      "RangeIndex: 153499 entries, 0 to 153498\n",
      "Data columns (total 10 columns):\n",
      " #   Column              Non-Null Count   Dtype  \n",
      "---  ------              --------------   -----  \n",
      " 0   city                138325 non-null  object \n",
      " 1   rating_not_checked  153499 non-null  bool   \n",
      " 2   title               153499 non-null  object \n",
      " 3   num_comments        153499 non-null  int64  \n",
      " 4   bank_license        153498 non-null  object \n",
      " 5   author              153479 non-null  object \n",
      " 6   bank_name           153499 non-null  object \n",
      " 7   datetime            153499 non-null  object \n",
      " 8   text                153499 non-null  object \n",
      " 9   rating_grade        88658 non-null   float64\n",
      "dtypes: bool(1), float64(1), int64(1), object(7)\n",
      "memory usage: 10.7+ MB\n"
     ]
    }
   ],
   "source": [
    "df.info()"
   ]
  },
  {
   "cell_type": "markdown",
   "id": "8a1ef065",
   "metadata": {},
   "source": [
    "### Почему получаются разные значение?"
   ]
  },
  {
   "cell_type": "code",
   "execution_count": 9,
   "id": "0bd27e4c",
   "metadata": {},
   "outputs": [
    {
     "name": "stdout",
     "output_type": "stream",
     "text": [
      "Количество отзывов в разных городах: 5823\n"
     ]
    }
   ],
   "source": [
    "print(\"Количество отзывов в разных городах:\", df.city.nunique())"
   ]
  },
  {
   "cell_type": "code",
   "execution_count": 10,
   "id": "96d6499a",
   "metadata": {},
   "outputs": [
    {
     "name": "stdout",
     "output_type": "stream",
     "text": [
      "Количество отзывов в разных городах: 5824\n"
     ]
    }
   ],
   "source": [
    "print(\"Количество отзывов в разных городах:\", len(df.city.unique()))"
   ]
  },
  {
   "cell_type": "code",
   "execution_count": 11,
   "id": "36188b8a",
   "metadata": {},
   "outputs": [
    {
     "name": "stdout",
     "output_type": "stream",
     "text": [
      "Количество отзывов на разные банки: 670\n"
     ]
    }
   ],
   "source": [
    "print(\"Количество отзывов на разные банки:\", len(df.bank_name.unique()))"
   ]
  },
  {
   "cell_type": "code",
   "execution_count": 12,
   "id": "d381f407",
   "metadata": {},
   "outputs": [
    {
     "name": "stdout",
     "output_type": "stream",
     "text": [
      "Количество отзывов на разные банки: 670\n"
     ]
    }
   ],
   "source": [
    "print(\"Количество отзывов на разные банки:\", df.bank_name.nunique())"
   ]
  },
  {
   "cell_type": "code",
   "execution_count": 13,
   "id": "f391849f",
   "metadata": {},
   "outputs": [
    {
     "data": {
      "image/png": "[encoded data removed]",
      "text/plain": [
       "<Figure size 720x432 with 1 Axes>"
      ]
     },
     "metadata": {
      "needs_background": "light"
     },
     "output_type": "display_data"
    }
   ],
   "source": [
    "df.text.apply(len).plot(kind='hist',bins=50, figsize=(10, 6))\n",
    "plt.xlabel('Длинa отзывов в символах')\n",
    "plt.ylabel('')\n",
    "plt.show()"
   ]
  },
  {
   "cell_type": "code",
   "execution_count": 14,
   "id": "0af1732b",
   "metadata": {},
   "outputs": [
    {
     "data": {
      "image/png": "[encoded data removed]",
      "text/plain": [
       "<Figure size 720x432 with 1 Axes>"
      ]
     },
     "metadata": {
      "needs_background": "light"
     },
     "output_type": "display_data"
    }
   ],
   "source": [
    "df.text.str.split().apply(len).plot(kind='hist',bins=50, figsize=(10, 6))\n",
    "plt.xlabel('Длинa отзывов в словах')\n",
    "plt.ylabel('')\n",
    "plt.show()"
   ]
  },
  {
   "cell_type": "code",
   "execution_count": 15,
   "id": "27068c8d",
   "metadata": {},
   "outputs": [],
   "source": [
    "from string import punctuation\n",
    "from collections import Counter"
   ]
  },
  {
   "cell_type": "code",
   "execution_count": 16,
   "id": "73824605",
   "metadata": {},
   "outputs": [
    {
     "name": "stderr",
     "output_type": "stream",
     "text": [
      "[nltk_data] Downloading package stopwords to\n",
      "[nltk_data]     C:\\Users\\cefeu\\AppData\\Roaming\\nltk_data...\n",
      "[nltk_data]   Package stopwords is already up-to-date!\n"
     ]
    }
   ],
   "source": [
    "import nltk\n",
    "nltk.download('stopwords')\n",
    "from nltk.corpus import stopwords"
   ]
  },
  {
   "cell_type": "code",
   "execution_count": 137,
   "id": "f84a08ec",
   "metadata": {},
   "outputs": [],
   "source": [
    "noise = stopwords.words('russian') + list(punctuation) + [\"``\", \"''\", \"...\", \".\", '»', '–']"
   ]
  },
  {
   "cell_type": "code",
   "execution_count": 207,
   "id": "88017ae5",
   "metadata": {
    "scrolled": true
   },
   "outputs": [
    {
     "name": "stdout",
     "output_type": "stream",
     "text": [
      "Collecting pymorphy2\n",
      "  Downloading pymorphy2-0.9.1-py3-none-any.whl (55 kB)\n",
      "Collecting docopt>=0.6\n",
      "  Downloading docopt-0.6.2.tar.gz (25 kB)\n",
      "Collecting dawg-python>=0.7.1\n",
      "  Downloading DAWG_Python-0.7.2-py2.py3-none-any.whl (11 kB)\n",
      "Collecting pymorphy2-dicts-ru<3.0,>=2.4\n",
      "  Downloading pymorphy2_dicts_ru-2.4.417127.4579844-py2.py3-none-any.whl (8.2 MB)\n",
      "Building wheels for collected packages: docopt\n",
      "  Building wheel for docopt (setup.py): started\n",
      "  Building wheel for docopt (setup.py): finished with status 'done'\n",
      "  Created wheel for docopt: filename=docopt-0.6.2-py2.py3-none-any.whl size=13723 sha256=76f782c1b6580fc9ad70c3f680eeb229283cc4e2ee0c042534c3e6bc5af3d6f6\n",
      "  Stored in directory: c:\\users\\cefeu\\appdata\\local\\pip\\cache\\wheels\\70\\4a\\46\\1309fc853b8d395e60bafaf1b6df7845bdd82c95fd59dd8d2b\n",
      "Successfully built docopt\n",
      "Installing collected packages: pymorphy2-dicts-ru, docopt, dawg-python, pymorphy2\n",
      "Successfully installed dawg-python-0.7.2 docopt-0.6.2 pymorphy2-0.9.1 pymorphy2-dicts-ru-2.4.417127.4579844\n"
     ]
    }
   ],
   "source": [
    "!pip install pymorphy2"
   ]
  },
  {
   "cell_type": "code",
   "execution_count": 22,
   "id": "1a36487e",
   "metadata": {},
   "outputs": [],
   "source": [
    "from pymorphy2 import MorphAnalyzer\n",
    "pymorphy2_analyzer = MorphAnalyzer()\n",
    "from nltk.tokenize import word_tokenize"
   ]
  },
  {
   "cell_type": "markdown",
   "id": "b43cae6d",
   "metadata": {},
   "source": [
    "Для ускорения, возьмем первые 10000 строк:"
   ]
  },
  {
   "cell_type": "code",
   "execution_count": 27,
   "id": "6523470d",
   "metadata": {},
   "outputs": [],
   "source": [
    "data = df.head(10000)"
   ]
  },
  {
   "cell_type": "code",
   "execution_count": 28,
   "id": "9dc43ba4",
   "metadata": {},
   "outputs": [
    {
     "name": "stdout",
     "output_type": "stream",
     "text": [
      "10 самых частых слов:\n"
     ]
    },
    {
     "data": {
      "text/plain": [
       "[('в', 74867),\n",
       " ('и', 60531),\n",
       " ('не', 49674),\n",
       " ('на', 41028),\n",
       " ('что', 35465),\n",
       " ('я', 33397),\n",
       " ('с', 27774),\n",
       " ('по', 22361),\n",
       " ('мне', 19029),\n",
       " ('банка', 16676)]"
      ]
     },
     "execution_count": 28,
     "metadata": {},
     "output_type": "execute_result"
    }
   ],
   "source": [
    "#Найдите 10 самых частых: слов\n",
    "karp = [token for tweet in data.text.str.lower() for token in word_tokenize(tweet) if token not in punctuation]\n",
    "popular10 = Counter(karp)\n",
    "\n",
    "print(\"10 самых частых слов:\")\n",
    "popular10.most_common(10)"
   ]
  },
  {
   "cell_type": "code",
   "execution_count": 29,
   "id": "926e24bf",
   "metadata": {},
   "outputs": [
    {
     "name": "stdout",
     "output_type": "stream",
     "text": [
      "10 самых частых слов без стоп слов:\n"
     ]
    },
    {
     "data": {
      "text/plain": [
       "[('банка', 16676),\n",
       " ('банк', 12868),\n",
       " ('это', 10107),\n",
       " ('деньги', 6986),\n",
       " ('карты', 5964),\n",
       " ('карту', 5618),\n",
       " ('день', 4711),\n",
       " ('кредит', 4631),\n",
       " ('заявление', 3933),\n",
       " ('банке', 3776)]"
      ]
     },
     "execution_count": 29,
     "metadata": {},
     "output_type": "execute_result"
    }
   ],
   "source": [
    "karp1 = [token for tweet in data.text.str.lower() for token in word_tokenize(tweet) if token not in noise]\n",
    "popular10_1 = Counter(karp1)\n",
    "\n",
    "print(\"10 самых частых слов без стоп слов:\")\n",
    "popular10_1.most_common(10)"
   ]
  },
  {
   "cell_type": "code",
   "execution_count": 30,
   "id": "8aafba2c",
   "metadata": {},
   "outputs": [
    {
     "name": "stdout",
     "output_type": "stream",
     "text": [
      "10 самых частых лемм:\n"
     ]
    },
    {
     "data": {
      "text/plain": [
       "[('банк', 25619),\n",
       " ('карта', 12532),\n",
       " ('мой', 10973),\n",
       " ('это', 10369),\n",
       " ('который', 8703),\n",
       " ('сотрудник', 7850),\n",
       " ('деньга', 6775),\n",
       " ('свой', 6216),\n",
       " ('кредит', 5913),\n",
       " ('сумма', 5537)]"
      ]
     },
     "execution_count": 30,
     "metadata": {},
     "output_type": "execute_result"
    }
   ],
   "source": [
    "karp2 = [pymorphy2_analyzer.parse(token)[0].normal_form for tweet in data.text.str.lower() for token in tweet.split() if token not in noise]\n",
    "popular10_2 = Counter(karp2)\n",
    "print(\"10 самых частых лемм:\")\n",
    "popular10_2.most_common(10)"
   ]
  },
  {
   "cell_type": "code",
   "execution_count": 31,
   "id": "33139cfc",
   "metadata": {},
   "outputs": [
    {
     "name": "stdout",
     "output_type": "stream",
     "text": [
      "10 самых частых существительных:\n"
     ]
    },
    {
     "data": {
      "text/plain": [
       "[('банк', 25619),\n",
       " ('карта', 12532),\n",
       " ('сотрудник', 7850),\n",
       " ('деньга', 6775),\n",
       " ('кредит', 5913),\n",
       " ('сумма', 5537),\n",
       " ('счёт', 5374),\n",
       " ('отделение', 5354),\n",
       " ('день', 5178),\n",
       " ('клиент', 4947)]"
      ]
     },
     "execution_count": 31,
     "metadata": {},
     "output_type": "execute_result"
    }
   ],
   "source": [
    "karp3 = [token for token in karp2 if pymorphy2_analyzer.parse(token)[0].tag.POS == 'NOUN']\n",
    "popular10_3 = Counter(karp3)\n",
    "print(\"10 самых частых существительных:\")\n",
    "popular10_3.most_common(10)"
   ]
  },
  {
   "cell_type": "code",
   "execution_count": 32,
   "id": "86b0993b",
   "metadata": {},
   "outputs": [],
   "source": [
    "#Постройте кривые Ципфа и Хипса\n",
    "corpus = [token for tweet in df.text.str.lower() for token in word_tokenize(tweet) if token not in punctuation]\n",
    "mostpopular = Counter(corpus)"
   ]
  },
  {
   "cell_type": "code",
   "execution_count": 39,
   "id": "aebf31ee",
   "metadata": {},
   "outputs": [
    {
     "data": {
      "image/png": "[encoded data removed]",
      "text/plain": [
       "<Figure size 432x288 with 1 Axes>"
      ]
     },
     "metadata": {
      "needs_background": "light"
     },
     "output_type": "display_data"
    }
   ],
   "source": [
    "fregs = list(mostpopular.values())\n",
    "freqs = sorted(fregs, reverse = True)\n",
    "\n",
    "fig, ax = plt.subplots()\n",
    "ax.plot(freqs[:500], range(500))\n",
    "plt.show()"
   ]
  },
  {
   "cell_type": "code",
   "execution_count": 519,
   "id": "bc053f50",
   "metadata": {},
   "outputs": [
    {
     "name": "stderr",
     "output_type": "stream",
     "text": [
      "100%|████████████████████████████████████████████████████████████████████████| 153499/153499 [1:04:47<00:00, 39.49it/s]\n"
     ]
    }
   ],
   "source": [
    "from tqdm import tqdm\n",
    "\n",
    "cnt = Counter()\n",
    "n_words = []\n",
    "n_tokens = []\n",
    "tokens = []\n",
    "for index, row in tqdm(df.iterrows(), total = len(df)):\n",
    "    tokens = word_tokenize(row['text'])\n",
    "    cnt.update([token for token in tokens if token not in punctuation])\n",
    "    n_words.append(len(cnt))\n",
    "    n_tokens.append(sum(list(cnt.values())))"
   ]
  },
  {
   "cell_type": "code",
   "execution_count": 520,
   "id": "23c48e72",
   "metadata": {},
   "outputs": [
    {
     "data": {
      "image/png": "[encoded data removed]",
      "text/plain": [
       "<Figure size 432x288 with 1 Axes>"
      ]
     },
     "metadata": {
      "needs_background": "light"
     },
     "output_type": "display_data"
    }
   ],
   "source": [
    "fig, ax = plt.subplots()\n",
    "ax.plot(n_tokens, n_words)\n",
    "plt.show()"
   ]
  },
  {
   "cell_type": "markdown",
   "id": "32fe7417",
   "metadata": {},
   "source": [
    "Ответьте на следующие вопросы:\n",
    "- какое слово встречается чаще, \"сотрудник\" или \"клиент\"?\n",
    "- сколько раз встречается слова \"мошенничество\" и \"доверие\"?"
   ]
  },
  {
   "cell_type": "code",
   "execution_count": 40,
   "id": "642b3c20",
   "metadata": {},
   "outputs": [
    {
     "name": "stdout",
     "output_type": "stream",
     "text": [
      "Cлово сотрудник встречается 30994 раз, что больше чем количество упоминаний слова клиент -  17754\n"
     ]
    }
   ],
   "source": [
    "print(\"Cлово сотрудник встречается\", mostpopular['сотрудник'], \"раз, что больше чем количество упоминаний слова клиент - \", mostpopular['клиент'])"
   ]
  },
  {
   "cell_type": "code",
   "execution_count": 41,
   "id": "391a46c7",
   "metadata": {},
   "outputs": [
    {
     "data": {
      "text/plain": [
       "1102"
      ]
     },
     "execution_count": 41,
     "metadata": {},
     "output_type": "execute_result"
    }
   ],
   "source": [
    "mostpopular['мошенничество']"
   ]
  },
  {
   "cell_type": "code",
   "execution_count": 42,
   "id": "7767eba1",
   "metadata": {},
   "outputs": [
    {
     "data": {
      "text/plain": [
       "1153"
      ]
     },
     "execution_count": 42,
     "metadata": {},
     "output_type": "execute_result"
    }
   ],
   "source": [
    "mostpopular['доверие']"
   ]
  },
  {
   "cell_type": "markdown",
   "id": "7f22c7c7",
   "metadata": {},
   "source": [
    "В поле \"rating_grade\" записана оценка отзыва по шкале от 1 до 5. Используйте меру tf - idf, для того, чтобы найти ключевые слова и биграмы для положительных отзывов (с оценкой 5) и отрицательных отзывов (с оценкой 1)."
   ]
  },
  {
   "cell_type": "code",
   "execution_count": 43,
   "id": "d03d7b84",
   "metadata": {},
   "outputs": [],
   "source": [
    "from sklearn.feature_extraction.text import TfidfVectorizer"
   ]
  },
  {
   "cell_type": "code",
   "execution_count": 221,
   "id": "942994a6",
   "metadata": {},
   "outputs": [],
   "source": [
    "df_positive = df.loc[df['rating_grade'] == 5].head(10000)"
   ]
  },
  {
   "cell_type": "code",
   "execution_count": 222,
   "id": "08c6a518",
   "metadata": {},
   "outputs": [],
   "source": [
    "positive = df_positive.text.str.lower().tolist()"
   ]
  },
  {
   "cell_type": "code",
   "execution_count": 223,
   "id": "6b9b0466",
   "metadata": {},
   "outputs": [],
   "source": [
    "lemmas_pos = [pymorphy2_analyzer.parse(word)[0].normal_form for word in (\" \".join(map(str,positive))).split() if word not in noise]"
   ]
  },
  {
   "cell_type": "code",
   "execution_count": 224,
   "id": "76257fa9",
   "metadata": {},
   "outputs": [],
   "source": [
    "vec = TfidfVectorizer(ngram_range=(1, 1), tokenizer=word_tokenize, stop_words=noise)\n",
    "bow = vec.fit_transform(lemmas_pos)"
   ]
  },
  {
   "cell_type": "code",
   "execution_count": 238,
   "id": "80aec34c",
   "metadata": {},
   "outputs": [
    {
     "name": "stdout",
     "output_type": "stream",
     "text": [
      "Ключевые униграммы для положительных отзывов:\n"
     ]
    },
    {
     "data": {
      "text/plain": [
       "['банк',\n",
       " 'карта',\n",
       " 'это',\n",
       " 'очень',\n",
       " 'который',\n",
       " 'отделение',\n",
       " 'день',\n",
       " 'сотрудник',\n",
       " 'кредит',\n",
       " 'свой']"
      ]
     },
     "execution_count": 238,
     "metadata": {},
     "output_type": "execute_result"
    }
   ],
   "source": [
    "idx = np.ravel(bow.sum(axis=0).argsort(axis=1))[::-1][:10]\n",
    "top_10_words = np.array(vec.get_feature_names_out())[idx].tolist()\n",
    "print(\"Ключевые униграммы для положительных отзывов:\")\n",
    "top_10_words"
   ]
  },
  {
   "cell_type": "code",
   "execution_count": 226,
   "id": "791b5890",
   "metadata": {},
   "outputs": [],
   "source": [
    "df_negative = df.loc[df['rating_grade'] == 1].head(10000)"
   ]
  },
  {
   "cell_type": "code",
   "execution_count": 227,
   "id": "1750a5dc",
   "metadata": {},
   "outputs": [],
   "source": [
    "negative = df_negative.text.str.lower().tolist()"
   ]
  },
  {
   "cell_type": "code",
   "execution_count": 228,
   "id": "7cd8af18",
   "metadata": {},
   "outputs": [],
   "source": [
    "lemmas_neg = [pymorphy2_analyzer.parse(word)[0].normal_form for word in (\" \".join(map(str,negative))).split() if word not in noise]"
   ]
  },
  {
   "cell_type": "code",
   "execution_count": 257,
   "id": "c9f31334",
   "metadata": {},
   "outputs": [],
   "source": [
    "bow12 = vec.fit_transform(lemmas_neg)"
   ]
  },
  {
   "cell_type": "code",
   "execution_count": 258,
   "id": "807eacae",
   "metadata": {},
   "outputs": [
    {
     "name": "stdout",
     "output_type": "stream",
     "text": [
      "Ключевые униграммы для отрицательных отзывов:\n"
     ]
    },
    {
     "data": {
      "text/plain": [
       "['банк',\n",
       " 'карта',\n",
       " 'это',\n",
       " 'который',\n",
       " 'сотрудник',\n",
       " 'отделение',\n",
       " 'день',\n",
       " 'деньга',\n",
       " 'кредит',\n",
       " 'заявление']"
      ]
     },
     "execution_count": 258,
     "metadata": {},
     "output_type": "execute_result"
    }
   ],
   "source": [
    "idx = np.ravel(bow12.sum(axis=0).argsort(axis=1))[::-1][:10]\n",
    "top_10_words = np.array(vec.get_feature_names_out())[idx].tolist()\n",
    "print(\"Ключевые униграммы для отрицательных отзывов:\")\n",
    "top_10_words"
   ]
  },
  {
   "cell_type": "markdown",
   "id": "a44d41e9",
   "metadata": {},
   "source": [
    "### Часть 2. Тематическое моделирование  \n",
    "1. Постройте несколько тематических моделей коллекции документов с разным числом тем. Приведите примеры понятных (интерпретируемых) тем.  \n",
    "2. Найдите темы, в которых упомянуты конкретные банки (Сбербанк, ВТБ, другой банк). Можете ли вы их прокомментировать / объяснить? Эта часть задания может быть сделана с использованием gensim."
   ]
  },
  {
   "cell_type": "code",
   "execution_count": 319,
   "id": "8c41379f",
   "metadata": {},
   "outputs": [],
   "source": [
    "from gensim.corpora import Dictionary\n",
    "from gensim.models import TfidfModel\n",
    "from gensim import similarities\n",
    "import re\n",
    "from gensim.models import lsimodel"
   ]
  },
  {
   "cell_type": "code",
   "execution_count": 309,
   "id": "c7e0786b",
   "metadata": {},
   "outputs": [],
   "source": [
    "ru_words = re.compile(\"[А-Яа-я]+\")\n",
    "\n",
    "\n",
    "def words_only(text):\n",
    "    return \" \".join(ru_words.findall(text))\n",
    "\n",
    "\n",
    "def lemmatize(text):\n",
    "    try: \n",
    "        return \" \".join([pymorphy2_analyzer.parse(word)[0].normal_form for word in text.split()])\n",
    "    except:\n",
    "        return \" \"\n",
    "\n",
    "\n",
    "def remove_stopwords(text, mystopwords = mystopwords):\n",
    "    try:\n",
    "        return \" \".join([token for token in text.split() if not token in mystopwords])\n",
    "    except:\n",
    "        return \"\"\n",
    "\n",
    "    \n",
    "def preprocess(text):\n",
    "    return remove_stopwords(lemmatize(words_only(text.lower())))"
   ]
  },
  {
   "cell_type": "code",
   "execution_count": 311,
   "id": "6615b1c6",
   "metadata": {},
   "outputs": [],
   "source": [
    "texte = data.text.str.lower().tolist()"
   ]
  },
  {
   "cell_type": "code",
   "execution_count": 313,
   "id": "e96537db",
   "metadata": {},
   "outputs": [],
   "source": [
    "text1 = []\n",
    "for item in texte:\n",
    "    text1.append(preprocess(item))"
   ]
  },
  {
   "cell_type": "code",
   "execution_count": 318,
   "id": "7c31056f",
   "metadata": {},
   "outputs": [],
   "source": [
    "texts = [text.split() for text in text1]\n",
    "dictionary = Dictionary(texts)\n",
    "corpus = [dictionary.doc2bow(text) for text in texts]"
   ]
  },
  {
   "cell_type": "code",
   "execution_count": 320,
   "id": "6de36ae8",
   "metadata": {},
   "outputs": [],
   "source": [
    "tfidf = TfidfModel(corpus)\n",
    "corpus_tfidf = tfidf[corpus]"
   ]
  },
  {
   "cell_type": "code",
   "execution_count": 328,
   "id": "9e57962f",
   "metadata": {},
   "outputs": [],
   "source": [
    "lsi_1 = lsimodel.LsiModel(corpus=corpus_tfidf, id2word=dictionary, num_topics=30)"
   ]
  },
  {
   "cell_type": "code",
   "execution_count": 329,
   "id": "fa4565f1",
   "metadata": {},
   "outputs": [
    {
     "data": {
      "text/plain": [
       "[(0,\n",
       "  '0.193*\"карта\" + 0.138*\"кредит\" + 0.118*\"деньга\" + 0.116*\"вклад\" + 0.107*\"счёт\" + 0.105*\"заявление\" + 0.101*\"сумма\" + 0.099*\"сотрудник\" + 0.099*\"отделение\" + 0.097*\"номер\"'),\n",
       " (1,\n",
       "  '0.251*\"звонок\" + -0.240*\"вклад\" + 0.231*\"номер\" + -0.216*\"карта\" + 0.208*\"кредит\" + 0.177*\"ваш\" + 0.142*\"телефон\" + 0.136*\"данные\" + 0.134*\"персональный\" + -0.132*\"деньга\"'),\n",
       " (2,\n",
       "  '0.617*\"вклад\" + -0.220*\"карта\" + 0.168*\"договор\" + -0.162*\"банкомат\" + 0.161*\"ставка\" + -0.158*\"сбербанк\" + 0.135*\"условие\" + 0.127*\"процент\" + 0.118*\"страховка\" + -0.109*\"операция\"'),\n",
       " (3,\n",
       "  '-0.337*\"страховка\" + -0.301*\"кредит\" + 0.299*\"вклад\" + -0.247*\"страхование\" + 0.206*\"номер\" + 0.145*\"звонок\" + -0.138*\"погашение\" + -0.133*\"платёж\" + -0.131*\"договор\" + -0.130*\"сумма\"'),\n",
       " (4,\n",
       "  '0.229*\"средство\" + 0.208*\"денежный\" + 0.184*\"договор\" + -0.180*\"заявка\" + 0.165*\"вклад\" + 0.143*\"счёт\" + 0.132*\"сумма\" + 0.125*\"руб\" + 0.123*\"г\" + 0.112*\"рф\"')]"
      ]
     },
     "execution_count": 329,
     "metadata": {},
     "output_type": "execute_result"
    }
   ],
   "source": [
    "lsi_1.show_topics(5)"
   ]
  },
  {
   "cell_type": "code",
   "execution_count": 334,
   "id": "f5a16372",
   "metadata": {},
   "outputs": [],
   "source": [
    "lsi_2 = lsimodel.LsiModel(corpus=corpus_tfidf, id2word=dictionary, num_topics=5)"
   ]
  },
  {
   "cell_type": "code",
   "execution_count": 335,
   "id": "39914769",
   "metadata": {},
   "outputs": [
    {
     "data": {
      "text/plain": [
       "[(0,\n",
       "  '0.193*\"карта\" + 0.138*\"кредит\" + 0.118*\"деньга\" + 0.116*\"вклад\" + 0.107*\"счёт\" + 0.105*\"заявление\" + 0.101*\"сумма\" + 0.099*\"сотрудник\" + 0.099*\"отделение\" + 0.097*\"номер\"'),\n",
       " (1,\n",
       "  '-0.250*\"звонок\" + 0.240*\"вклад\" + -0.231*\"номер\" + 0.216*\"карта\" + -0.208*\"кредит\" + -0.177*\"ваш\" + -0.142*\"телефон\" + -0.136*\"данные\" + -0.134*\"персональный\" + 0.131*\"деньга\"'),\n",
       " (2,\n",
       "  '0.617*\"вклад\" + -0.220*\"карта\" + 0.167*\"договор\" + -0.163*\"банкомат\" + 0.160*\"ставка\" + -0.158*\"сбербанк\" + 0.135*\"условие\" + 0.127*\"процент\" + 0.118*\"страховка\" + -0.109*\"операция\"'),\n",
       " (3,\n",
       "  '0.337*\"страховка\" + 0.301*\"кредит\" + -0.299*\"вклад\" + 0.247*\"страхование\" + -0.206*\"номер\" + -0.145*\"звонок\" + 0.137*\"погашение\" + 0.132*\"платёж\" + 0.131*\"договор\" + 0.129*\"сумма\"'),\n",
       " (4,\n",
       "  '0.228*\"средство\" + 0.206*\"денежный\" + 0.186*\"договор\" + -0.178*\"заявка\" + 0.166*\"вклад\" + 0.144*\"счёт\" + 0.131*\"сумма\" + 0.124*\"руб\" + 0.123*\"г\" + -0.109*\"отделение\"')]"
      ]
     },
     "execution_count": 335,
     "metadata": {},
     "output_type": "execute_result"
    }
   ],
   "source": [
    "lsi_2.show_topics(5)"
   ]
  },
  {
   "cell_type": "code",
   "execution_count": 332,
   "id": "feeb7686",
   "metadata": {},
   "outputs": [],
   "source": [
    "lsi_3 = lsimodel.LsiModel(corpus=corpus_tfidf, id2word=dictionary, num_topics=100)"
   ]
  },
  {
   "cell_type": "code",
   "execution_count": 337,
   "id": "90d2ccfb",
   "metadata": {},
   "outputs": [
    {
     "data": {
      "text/plain": [
       "[(0,\n",
       "  '0.193*\"карта\" + 0.138*\"кредит\" + 0.118*\"деньга\" + 0.116*\"вклад\" + 0.107*\"счёт\" + 0.105*\"заявление\" + 0.101*\"сумма\" + 0.099*\"сотрудник\" + 0.099*\"отделение\" + 0.097*\"номер\"'),\n",
       " (1,\n",
       "  '0.251*\"звонок\" + -0.240*\"вклад\" + 0.231*\"номер\" + -0.216*\"карта\" + 0.208*\"кредит\" + 0.177*\"ваш\" + 0.142*\"телефон\" + 0.136*\"данные\" + 0.134*\"персональный\" + -0.132*\"деньга\"'),\n",
       " (2,\n",
       "  '0.618*\"вклад\" + -0.221*\"карта\" + 0.169*\"договор\" + -0.162*\"банкомат\" + 0.161*\"ставка\" + -0.158*\"сбербанк\" + 0.134*\"условие\" + 0.127*\"процент\" + 0.118*\"страховка\" + -0.109*\"операция\"'),\n",
       " (3,\n",
       "  '-0.337*\"страховка\" + -0.301*\"кредит\" + 0.299*\"вклад\" + -0.247*\"страхование\" + 0.205*\"номер\" + 0.144*\"звонок\" + -0.139*\"погашение\" + -0.133*\"платёж\" + -0.131*\"договор\" + -0.129*\"сумма\"'),\n",
       " (4,\n",
       "  '0.228*\"средство\" + 0.206*\"денежный\" + 0.184*\"договор\" + -0.179*\"заявка\" + 0.166*\"вклад\" + 0.143*\"счёт\" + 0.131*\"сумма\" + 0.125*\"руб\" + 0.122*\"г\" + -0.113*\"очередь\"'),\n",
       " (5,\n",
       "  '-0.262*\"страхование\" + -0.252*\"страховка\" + 0.248*\"платёж\" + -0.215*\"сбербанк\" + 0.170*\"задолженность\" + 0.158*\"просрочка\" + 0.136*\"платить\" + -0.135*\"страховой\" + 0.128*\"погашение\" + -0.127*\"услуга\"'),\n",
       " (6,\n",
       "  '-0.398*\"карта\" + 0.332*\"банкомат\" + 0.208*\"деньга\" + -0.183*\"комиссия\" + -0.170*\"кредитный\" + -0.157*\"услуга\" + 0.136*\"чек\" + -0.133*\"лимит\" + 0.131*\"купюра\" + 0.130*\"терминал\"'),\n",
       " (7,\n",
       "  '-0.485*\"банкомат\" + -0.222*\"страховка\" + -0.195*\"комиссия\" + 0.161*\"кошелёк\" + 0.156*\"сбербанк\" + 0.140*\"киви\" + 0.135*\"платёж\" + 0.135*\"документ\" + -0.123*\"страхование\" + -0.123*\"рубль\"'),\n",
       " (8,\n",
       "  '-0.280*\"кошелёк\" + -0.257*\"киви\" + 0.243*\"карта\" + 0.225*\"сбербанк\" + -0.211*\"перевод\" + 0.200*\"заявление\" + 0.168*\"г\" + 0.166*\"отделение\" + -0.156*\"поддержка\" + -0.154*\"комиссия\"'),\n",
       " (9,\n",
       "  '0.255*\"вклад\" + 0.228*\"страховка\" + -0.215*\"банкомат\" + 0.196*\"номер\" + 0.174*\"смс\" + 0.136*\"деньга\" + 0.109*\"руб\" + -0.104*\"очередь\" + 0.103*\"сбербанк\" + 0.100*\"сумма\"'),\n",
       " (10,\n",
       "  '0.439*\"сбербанк\" + -0.401*\"заявка\" + -0.154*\"кредитный\" + -0.146*\"карта\" + -0.145*\"рассмотрение\" + 0.120*\"очередь\" + -0.116*\"лимит\" + -0.114*\"банкомат\" + -0.110*\"срок\" + 0.103*\"онлайн\"'),\n",
       " (11,\n",
       "  '-0.203*\"комиссия\" + -0.198*\"счёт\" + 0.187*\"банкомат\" + 0.180*\"услуга\" + 0.174*\"сбербанк\" + -0.169*\"перевод\" + -0.147*\"обработка\" + 0.147*\"смс\" + -0.146*\"персональный\" + -0.144*\"курс\"'),\n",
       " (12,\n",
       "  '-0.285*\"карта\" + -0.246*\"кошелёк\" + -0.231*\"киви\" + 0.169*\"смс\" + 0.167*\"услуга\" + -0.162*\"заблокировать\" + -0.153*\"деньга\" + 0.135*\"погашение\" + 0.133*\"заявка\" + 0.123*\"досрочный\"'),\n",
       " (13,\n",
       "  '0.236*\"сбербанк\" + 0.234*\"заявка\" + 0.204*\"платёж\" + 0.172*\"персональный\" + -0.171*\"заявление\" + -0.157*\"комиссия\" + 0.157*\"обработка\" + 0.135*\"согласие\" + -0.134*\"звонить\" + 0.132*\"р\"'),\n",
       " (14,\n",
       "  '0.287*\"заявка\" + 0.246*\"сбербанк\" + 0.234*\"перевод\" + -0.217*\"услуга\" + 0.212*\"средство\" + -0.197*\"договор\" + 0.190*\"денежный\" + 0.166*\"кредит\" + 0.142*\"счёт\" + -0.138*\"смс\"'),\n",
       " (15,\n",
       "  '-0.390*\"курс\" + -0.273*\"рубль\" + -0.226*\"евро\" + 0.196*\"счёт\" + -0.170*\"доллар\" + -0.159*\"валюта\" + 0.152*\"перевод\" + 0.150*\"погашение\" + 0.146*\"услуга\" + -0.136*\"сбербанк\"'),\n",
       " (16,\n",
       "  '-0.416*\"руб\" + -0.368*\"комиссия\" + -0.201*\"терминал\" + -0.172*\"сбербанк\" + -0.148*\"номер\" + 0.144*\"телебанк\" + -0.144*\"заявка\" + 0.127*\"втб\" + -0.125*\"тариф\" + 0.117*\"курс\"'),\n",
       " (17,\n",
       "  '-0.252*\"банкомат\" + 0.239*\"терминал\" + 0.206*\"страховка\" + -0.190*\"договор\" + -0.180*\"справка\" + -0.178*\"кредит\" + 0.167*\"платёж\" + -0.158*\"сбербанк\" + -0.149*\"комиссия\" + 0.143*\"страхование\"'),\n",
       " (18,\n",
       "  '-0.213*\"комиссия\" + 0.208*\"погашение\" + -0.205*\"альфа\" + 0.185*\"досрочный\" + -0.182*\"услуга\" + 0.174*\"курс\" + -0.157*\"деньга\" + 0.149*\"карта\" + 0.137*\"кошелёк\" + -0.127*\"р\"'),\n",
       " (19,\n",
       "  '-0.201*\"заявка\" + 0.200*\"заявление\" + -0.180*\"договор\" + 0.171*\"комиссия\" + -0.163*\"кредитный\" + 0.159*\"ответ\" + 0.149*\"обращение\" + -0.140*\"счёт\" + 0.118*\"руб\" + -0.117*\"закон\"')]"
      ]
     },
     "execution_count": 337,
     "metadata": {},
     "output_type": "execute_result"
    }
   ],
   "source": [
    "lsi_3.show_topics(20)"
   ]
  },
  {
   "cell_type": "markdown",
   "id": "e8548dee",
   "metadata": {},
   "source": [
    "Как видно, полученные параметры не сильно изменяются от количества заданных тем.  \n",
    "Можно выделить некоторые темы, очевидно, что в 6 примере речь идет о снятие наличных в банкомате, в 9 примере что-то про страховку вкладов в сбербанке, во 2 примере, тоже вклады в сбербанке.  \n",
    "При беглом взляде, чаще всего упоминается Сбербанк (что не удивительно), так же попадались упоминания о ВТБ, Киви, Альфабанке."
   ]
  },
  {
   "cell_type": "markdown",
   "id": "c23dff6a",
   "metadata": {},
   "source": [
    "### Часть 3. Классификация текстов  \n",
    "Сформулируем для простоты задачу бинарной классификации: будем классифицировать на два класса, то есть, различать резко отрицательные отзывы (с оценкой 1) и положительные отзывы (с оценкой 5).\n",
    "\n",
    "1. Составьте обучающее и тестовое множество: выберите из всего набора данных N1 отзывов с оценкой 1 и N2 отзывов с оценкой 5 (значение N1 и N2 – на ваше усмотрение). Используйте sklearn.model_selection.train_test_split для разделения множества отобранных документов на обучающее и тестовое.  \n",
    "2. Используйте любой известный вам алгоритм классификации текстов для решения задачи и получите baseline. Сравните разные варианты векторизации текста: использование только униграм, пар или троек слов или с использованием символьных n-грам.  \n",
    "3. Сравните, как изменяется качество решения задачи при использовании скрытых тем в качестве признаков:  \n",
    "- 1-ый вариант: tf - idf преобразование (sklearn.feature_extraction.text.TfidfTransformer) и сингулярное разложение (оно же – латентый семантический анализ) (sklearn.decomposition.TruncatedSVD),  \n",
    "- 2-ой вариант: тематические модели LDA (sklearn.decomposition.LatentDirichletAllocation). Используйте accuracy и F-measure для оценки качества классификации.  \n",
    "\n",
    "В ноутбуке, размещенном в папке репозитория. написан примерный Pipeline для классификации текстов.\n",
    "\n",
    "Эта часть задания может быть сделана с использованием sklearn."
   ]
  },
  {
   "cell_type": "code",
   "execution_count": 396,
   "id": "ff25a5f7",
   "metadata": {},
   "outputs": [],
   "source": [
    "from sklearn.pipeline import Pipeline\n",
    "from sklearn.ensemble import RandomForestClassifier\n",
    "from sklearn.linear_model import LogisticRegression\n",
    "from sklearn.model_selection import train_test_split\n",
    "from sklearn.feature_extraction.text import CountVectorizer\n",
    "from sklearn.metrics import classification_report\n",
    "from sklearn.feature_extraction.text import TfidfTransformer\n",
    "from sklearn.decomposition import TruncatedSVD\n",
    "from sklearn.decomposition import LatentDirichletAllocation"
   ]
  },
  {
   "cell_type": "code",
   "execution_count": null,
   "id": "78691971",
   "metadata": {},
   "outputs": [],
   "source": [
    "# !!! На каждом этапе Pipeline нужно указать свои параметры\n",
    "# 1-ый вариант: tf-idf + LSI\n",
    "# 2-ой вариант: LDA\n",
    "\n",
    "# clf = Pipeline([\n",
    "#     ('vect', CountVectorizer(analyzer = 'char', ngram_range={4,6})),\n",
    "#     ('clf', RandomForestClassifier()),\n",
    "# ])\n",
    "\n",
    "\n",
    "\n",
    "clf = Pipeline([ \n",
    "    ('vect', CountVectorizer()), \n",
    "    ('tfidf', TfidfTransformer()), \n",
    "    ('tm', TruncatedSVD()), \n",
    "    ('clf', RandomForestClassifier())\n",
    "])"
   ]
  },
  {
   "cell_type": "code",
   "execution_count": 357,
   "id": "f1847fec",
   "metadata": {},
   "outputs": [],
   "source": [
    "df_15 = df.loc[(df['rating_grade'] == 1)|(df['rating_grade'] == 5)]"
   ]
  },
  {
   "cell_type": "code",
   "execution_count": 358,
   "id": "5d78bb0d",
   "metadata": {},
   "outputs": [],
   "source": [
    "X = df_15.text.values\n",
    "y = df_15.rating_grade.values"
   ]
  },
  {
   "cell_type": "code",
   "execution_count": 364,
   "id": "e61e1a74",
   "metadata": {},
   "outputs": [],
   "source": [
    "X_train, X_test, y_train, y_test = train_test_split(X, y, test_size=0.3, random_state = 42)"
   ]
  },
  {
   "cell_type": "markdown",
   "id": "299b0711",
   "metadata": {},
   "source": [
    "#### Используйте любой известный вам алгоритм классификации текстов для решения задачи и получите baseline. Сравните разные варианты векторизации текста: использование только униграм, пар или троек слов или с использованием символьных n-грам."
   ]
  },
  {
   "cell_type": "code",
   "execution_count": 369,
   "id": "8fdba252",
   "metadata": {},
   "outputs": [],
   "source": [
    "vec15 = CountVectorizer(ngram_range=(1, 1))\n",
    "bow15 = vec15.fit_transform(X_train)"
   ]
  },
  {
   "cell_type": "code",
   "execution_count": 376,
   "id": "40cbbd2c",
   "metadata": {},
   "outputs": [
    {
     "data": {
      "text/plain": [
       "LogisticRegression(random_state=42, solver='newton-cg')"
      ]
     },
     "execution_count": 376,
     "metadata": {},
     "output_type": "execute_result"
    }
   ],
   "source": [
    "clf = LogisticRegression(random_state=42, solver='newton-cg')\n",
    "clf.fit(bow15, y_train)"
   ]
  },
  {
   "cell_type": "code",
   "execution_count": 379,
   "id": "a8fd9bfd",
   "metadata": {},
   "outputs": [
    {
     "name": "stdout",
     "output_type": "stream",
     "text": [
      "              precision    recall  f1-score   support\n",
      "\n",
      "         1.0       0.98      0.97      0.98     14326\n",
      "         5.0       0.92      0.94      0.93      4304\n",
      "\n",
      "    accuracy                           0.97     18630\n",
      "   macro avg       0.95      0.96      0.95     18630\n",
      "weighted avg       0.97      0.97      0.97     18630\n",
      "\n"
     ]
    }
   ],
   "source": [
    "pred15 = clf.predict(vec15.transform(X_test))\n",
    "print(classification_report(pred15, y_test))"
   ]
  },
  {
   "cell_type": "code",
   "execution_count": 381,
   "id": "62f99b78",
   "metadata": {},
   "outputs": [
    {
     "name": "stdout",
     "output_type": "stream",
     "text": [
      "              precision    recall  f1-score   support\n",
      "\n",
      "         1.0       0.99      0.95      0.97     14702\n",
      "         5.0       0.85      0.96      0.90      3928\n",
      "\n",
      "    accuracy                           0.96     18630\n",
      "   macro avg       0.92      0.96      0.94     18630\n",
      "weighted avg       0.96      0.96      0.96     18630\n",
      "\n"
     ]
    }
   ],
   "source": [
    "vec15_2 = CountVectorizer(ngram_range=(2, 2))\n",
    "bow15_2 = vec15_2.fit_transform(X_train)\n",
    "clf_2 = LogisticRegression(random_state=42, solver='newton-cg')\n",
    "clf_2.fit(bow15_2, y_train)\n",
    "pred15_2 = clf_2.predict(vec15_2.transform(X_test))\n",
    "print(classification_report(pred15_2, y_test))"
   ]
  },
  {
   "cell_type": "code",
   "execution_count": 382,
   "id": "f6efc6bd",
   "metadata": {},
   "outputs": [
    {
     "name": "stdout",
     "output_type": "stream",
     "text": [
      "              precision    recall  f1-score   support\n",
      "\n",
      "         1.0       0.99      0.87      0.93     16228\n",
      "         5.0       0.52      0.97      0.68      2402\n",
      "\n",
      "    accuracy                           0.88     18630\n",
      "   macro avg       0.76      0.92      0.80     18630\n",
      "weighted avg       0.93      0.88      0.90     18630\n",
      "\n"
     ]
    }
   ],
   "source": [
    "vec15_3 = CountVectorizer(ngram_range=(3, 3))\n",
    "bow15_3 = vec15_3.fit_transform(X_train)\n",
    "clf_3 = LogisticRegression(random_state=42, solver='newton-cg')\n",
    "clf_3.fit(bow15_3, y_train)\n",
    "pred15_3 = clf_3.predict(vec15_3.transform(X_test))\n",
    "print(classification_report(pred15_3, y_test))"
   ]
  },
  {
   "cell_type": "markdown",
   "id": "02643db4",
   "metadata": {},
   "source": [
    "#### Cингулярное разложение"
   ]
  },
  {
   "cell_type": "code",
   "execution_count": 387,
   "id": "0b3f9a4e",
   "metadata": {},
   "outputs": [],
   "source": [
    "clf_tf_idf_TruncatedSVD = Pipeline([ \n",
    "    ('vect', CountVectorizer()), \n",
    "    ('tfidf', TfidfTransformer()), \n",
    "    ('tm', TruncatedSVD()), \n",
    "    ('clf', RandomForestClassifier())\n",
    "])"
   ]
  },
  {
   "cell_type": "code",
   "execution_count": 388,
   "id": "40648444",
   "metadata": {},
   "outputs": [
    {
     "data": {
      "text/plain": [
       "Pipeline(steps=[('vect', CountVectorizer()), ('tfidf', TfidfTransformer()),\n",
       "                ('tm', TruncatedSVD()), ('clf', RandomForestClassifier())])"
      ]
     },
     "execution_count": 388,
     "metadata": {},
     "output_type": "execute_result"
    }
   ],
   "source": [
    "clf_tf_idf_TruncatedSVD.fit(X_train, y_train)"
   ]
  },
  {
   "cell_type": "code",
   "execution_count": 389,
   "id": "045c18bd",
   "metadata": {},
   "outputs": [],
   "source": [
    "y_pred = clf_tf_idf_TruncatedSVD.predict(X_test)"
   ]
  },
  {
   "cell_type": "code",
   "execution_count": 391,
   "id": "56c5035d",
   "metadata": {},
   "outputs": [
    {
     "name": "stdout",
     "output_type": "stream",
     "text": [
      "              precision    recall  f1-score   support\n",
      "\n",
      "         1.0       0.91      0.85      0.88     15208\n",
      "         5.0       0.48      0.62      0.54      3422\n",
      "\n",
      "    accuracy                           0.81     18630\n",
      "   macro avg       0.69      0.73      0.71     18630\n",
      "weighted avg       0.83      0.81      0.81     18630\n",
      "\n"
     ]
    }
   ],
   "source": [
    "print(classification_report(y_pred, y_test))"
   ]
  },
  {
   "cell_type": "markdown",
   "id": "c708b167",
   "metadata": {},
   "source": [
    "#### Tематические модели LDA"
   ]
  },
  {
   "cell_type": "code",
   "execution_count": 397,
   "id": "d755f6a8",
   "metadata": {},
   "outputs": [],
   "source": [
    "clf_tf_idf_LDA = Pipeline([\n",
    "     ('vect', CountVectorizer()),\n",
    "     ('lda', LatentDirichletAllocation()),\n",
    "     ('clf', LogisticRegression())\n",
    "])"
   ]
  },
  {
   "cell_type": "code",
   "execution_count": 398,
   "id": "d4a60767",
   "metadata": {},
   "outputs": [
    {
     "data": {
      "text/plain": [
       "Pipeline(steps=[('vect', CountVectorizer()),\n",
       "                ('lda', LatentDirichletAllocation()),\n",
       "                ('clf', LogisticRegression())])"
      ]
     },
     "execution_count": 398,
     "metadata": {},
     "output_type": "execute_result"
    }
   ],
   "source": [
    "clf_tf_idf_LDA.fit(X_train, y_train)"
   ]
  },
  {
   "cell_type": "code",
   "execution_count": 399,
   "id": "8c6b03f9",
   "metadata": {},
   "outputs": [],
   "source": [
    "y_pred1 = clf_tf_idf_LDA.predict(X_test)"
   ]
  },
  {
   "cell_type": "code",
   "execution_count": 400,
   "id": "2385a236",
   "metadata": {},
   "outputs": [
    {
     "name": "stdout",
     "output_type": "stream",
     "text": [
      "              precision    recall  f1-score   support\n",
      "\n",
      "         1.0       0.98      0.94      0.96     14702\n",
      "         5.0       0.81      0.92      0.86      3928\n",
      "\n",
      "    accuracy                           0.94     18630\n",
      "   macro avg       0.90      0.93      0.91     18630\n",
      "weighted avg       0.94      0.94      0.94     18630\n",
      "\n"
     ]
    }
   ],
   "source": [
    "print(classification_report(y_pred1, y_test))"
   ]
  },
  {
   "cell_type": "code",
   "execution_count": null,
   "id": "e2b22a41",
   "metadata": {},
   "outputs": [],
   "source": []
  }
 ],
 "metadata": {
  "kernelspec": {
   "display_name": "Python 3 (ipykernel)",
   "language": "python",
   "name": "python3"
  },
  "language_info": {
   "codemirror_mode": {
    "name": "ipython",
    "version": 3
   },
   "file_extension": ".py",
   "mimetype": "text/x-python",
   "name": "python",
   "nbconvert_exporter": "python",
   "pygments_lexer": "ipython3",
   "version": "3.9.12"
  }
 },
 "nbformat": 4,
 "nbformat_minor": 5
}
